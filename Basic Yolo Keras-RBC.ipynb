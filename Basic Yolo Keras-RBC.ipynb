{
 "cells": [
  {
   "cell_type": "markdown",
   "metadata": {},
   "source": [
    "**Outline of Steps**\n",
    "    + Initialization\n",
    "        + Download VOC data from http://host.robots.ox.ac.uk/pascal/VOC/voc2012/VOCtrainval_11-May-2012.tar\n",
    "        + Download pre-trained weights from http://pjreddie.com/media/files/tiny-yolo-voc.weights\n",
    "        + Specify the directory of annotations by setting variable *ann_di*\n",
    "        + Specify the directory of images by setting variable *img_dir*\n",
    "        + Specity the path of pre-trained weights by setting variable *wt_path*\n",
    "    + Construct equivalent network in Keras\n",
    "        + Network arch from https://github.com/pjreddie/darknet/blob/master/cfg/tiny-yolo-voc.cfg\n",
    "    + Load the pretrained weights\n",
    "    + Preprocess VOC data\n",
    "    + Perform training (for POC, the weights of the last layers are randomized before training)\n",
    "    + Perform detection on an image with newly trained weights"
   ]
  },
  {
   "cell_type": "markdown",
   "metadata": {},
   "source": [
    "## Initialization"
   ]
  },
  {
   "cell_type": "code",
   "execution_count": 1,
   "metadata": {
    "ExecuteTime": {
     "end_time": "2017-07-05T09:15:02.790442Z",
     "start_time": "2017-07-05T17:14:59.548756+08:00"
    },
    "code_folding": [],
    "scrolled": true
   },
   "outputs": [
    {
     "name": "stderr",
     "output_type": "stream",
     "text": [
      "Using TensorFlow backend.\n"
     ]
    }
   ],
   "source": [
    "from keras.models import Sequential\n",
    "from keras.layers import Reshape, Activation, Input, MaxPooling2D, BatchNormalization, Flatten, Dense\n",
    "from keras.layers.advanced_activations import LeakyReLU\n",
    "from keras.layers.convolutional import Conv2D\n",
    "from keras.callbacks import EarlyStopping, ModelCheckpoint, TensorBoard\n",
    "from keras.optimizers import SGD,Adam\n",
    "import matplotlib.pyplot as plt\n",
    "import numpy as np\n",
    "import os\n",
    "# from keras.layers.core import K\n",
    "# K.set_learning_phase(False)\n",
    "%matplotlib inline"
   ]
  },
  {
   "cell_type": "code",
   "execution_count": 9,
   "metadata": {
    "ExecuteTime": {
     "end_time": "2017-07-05T09:15:02.799298Z",
     "start_time": "2017-07-05T17:15:02.793852+08:00"
    },
    "collapsed": true
   },
   "outputs": [],
   "source": [
    "wt_path = 'weights.hdf5' #tiny-yolo-voc.weights                      \n",
    "ann_dir = 'data_rbc/detection_dataset/Annotations/'\n",
    "img_dir = 'data_rnc/detection_dataset/JPEGImages/'"
   ]
  },
  {
   "cell_type": "code",
   "execution_count": 18,
   "metadata": {
    "ExecuteTime": {
     "end_time": "2017-07-05T09:19:58.442938Z",
     "start_time": "2017-07-05T17:19:58.214533+08:00"
    },
    "scrolled": true
   },
   "outputs": [
    {
     "name": "stdout",
     "output_type": "stream",
     "text": [
      "Done \n"
     ]
    }
   ],
   "source": [
    "execfile('utils.py')\n",
    "#, 'bird', 'boat', 'bottle', 'bus', 'car', 'cat', 'chair', 'cow', 'diningtable', 'dog', 'horse', 'motorbike', 'person', 'pottedplant', 'sheep', 'sofa', 'train', 'tvmonitor'\n",
    "LABELS = ['RBC']\n",
    "COLORS = [(0,0,0)]\n",
    "#,(128,128,128),(148,255,181),(143,124,0),(157,204,0),(194,0,136),(0,51,128),(255,164,5),(255,168,187),(66,102,0),(255,0,16),(94,241,242),(0,153,143),(224,255,102),(116,10,255),(153,0,0),(255,255,128),(255,255,0),(255,80,5)\n",
    "\n",
    "NORM_H, NORM_W = 416, 416\n",
    "GRID_H, GRID_W = 13 , 13\n",
    "BATCH_SIZE = 8\n",
    "BOX = 5\n",
    "CLASS = 1\n",
    "THRESHOLD = 0.10\n",
    "ANCHORS = '1.08,1.19,  3.42,4.41,  6.63,11.38,  9.42,5.11,  16.62,10.52'\n",
    "ANCHORS = [float(ANCHORS.strip()) for ANCHORS in ANCHORS.split(',')]\n",
    "SCALE_NOOB, SCALE_CONF, SCALE_COOR, SCALE_PROB = 0.5, 5.0, 5.0, 1.0\n",
    "weight_reader = WeightReader(wt_path)\n",
    "print(\"Done \")"
   ]
  },
  {
   "cell_type": "markdown",
   "metadata": {},
   "source": [
    "## Construct the network"
   ]
  },
  {
   "cell_type": "code",
   "execution_count": 4,
   "metadata": {
    "ExecuteTime": {
     "end_time": "2017-07-05T09:15:06.152272Z",
     "start_time": "2017-07-05T17:15:05.659143+08:00"
    },
    "code_folding": [],
    "collapsed": true
   },
   "outputs": [],
   "source": [
    "model = Sequential()\n",
    "\n",
    "# Layer 1\n",
    "model.add(Conv2D(16, (3,3), strides=(1,1), padding='same', use_bias=False, input_shape=(416,416,3)))\n",
    "model.add(BatchNormalization())\n",
    "model.add(LeakyReLU(alpha=0.1))\n",
    "model.add(MaxPooling2D(pool_size=(2, 2)))\n",
    "\n",
    "# Layer 2 - 5\n",
    "for i in range(0,4):\n",
    "    model.add(Conv2D(32*(2**i), (3,3), strides=(1,1), padding='same', use_bias=False))\n",
    "    model.add(BatchNormalization())\n",
    "    model.add(LeakyReLU(alpha=0.1))\n",
    "    model.add(MaxPooling2D(pool_size=(2, 2)))\n",
    "\n",
    "# Layer 6\n",
    "model.add(Conv2D(512, (3,3), strides=(1,1), padding='same', use_bias=False))\n",
    "model.add(BatchNormalization())\n",
    "model.add(LeakyReLU(alpha=0.1))\n",
    "model.add(MaxPooling2D(pool_size=(2, 2), strides=(1,1), padding='same'))\n",
    "\n",
    "# Layer 7 - 8\n",
    "for _ in range(0,2):\n",
    "    model.add(Conv2D(1024, (3,3), strides=(1,1), padding='same', use_bias=False))\n",
    "    model.add(BatchNormalization())\n",
    "    model.add(LeakyReLU(alpha=0.1))\n",
    "\n",
    "# Layer 9\n",
    "model.add(Conv2D(BOX * (4 + 1 + CLASS), (1, 1), strides=(1, 1), kernel_initializer='he_normal'))\n",
    "model.add(Activation('linear'))\n",
    "model.add(Reshape((GRID_H, GRID_W, BOX, 4 + 1 + CLASS)))"
   ]
  },
  {
   "cell_type": "code",
   "execution_count": null,
   "metadata": {
    "ExecuteTime": {
     "end_time": "2017-07-05T09:15:07.608886Z",
     "start_time": "2017-07-05T17:15:07.584785+08:00"
    },
    "collapsed": true
   },
   "outputs": [],
   "source": [
    "model.summary()"
   ]
  },
  {
   "cell_type": "markdown",
   "metadata": {},
   "source": [
    "## Load pretrained weights"
   ]
  },
  {
   "cell_type": "code",
   "execution_count": null,
   "metadata": {
    "ExecuteTime": {
     "end_time": "2017-07-05T09:20:29.250180Z",
     "start_time": "2017-07-05T17:20:28.913062+08:00"
    },
    "code_folding": [],
    "collapsed": true
   },
   "outputs": [],
   "source": [
    "weight_reader.reset()\n",
    "\n",
    "for i in range(len(model.layers)):\n",
    "    if 'conv' in model.layers[i].name:\n",
    "        if 'batch' in model.layers[i+1].name:\n",
    "            norm_layer = model.layers[i+1]\n",
    "            size = np.prod(norm_layer.get_weights()[0].shape)\n",
    "            \n",
    "            beta  = weight_reader.read_bytes(size)\n",
    "            gamma = weight_reader.read_bytes(size)\n",
    "            mean  = weight_reader.read_bytes(size)\n",
    "            var   = weight_reader.read_bytes(size)\n",
    "            \n",
    "            weights = norm_layer.set_weights([gamma, beta, mean, var])\n",
    "            \n",
    "        conv_layer = model.layers[i]\n",
    "        if len(conv_layer.get_weights()) > 1:\n",
    "            bias   = weight_reader.read_bytes(np.prod(conv_layer.get_weights()[1].shape))\n",
    "            kernel = weight_reader.read_bytes(np.prod(conv_layer.get_weights()[0].shape))\n",
    "            kernel = kernel.reshape(list(reversed(conv_layer.get_weights()[0].shape)))\n",
    "            kernel = kernel.transpose([2,3,1,0])\n",
    "            conv_layer.set_weights([kernel, bias])\n",
    "        else:\n",
    "            kernel = weight_reader.read_bytes(np.prod(conv_layer.get_weights()[0].shape))\n",
    "            kernel = kernel.reshape(list(reversed(conv_layer.get_weights()[0].shape)))\n",
    "            kernel = kernel.transpose([2,3,1,0])\n",
    "            conv_layer.set_weights([kernel])"
   ]
  },
  {
   "cell_type": "markdown",
   "metadata": {},
   "source": [
    "## Preprocess VOC data"
   ]
  },
  {
   "cell_type": "code",
   "execution_count": 11,
   "metadata": {
    "ExecuteTime": {
     "end_time": "2017-06-30T06:44:58.821593Z",
     "start_time": "2017-06-30T14:44:49.185227+08:00"
    },
    "collapsed": true
   },
   "outputs": [],
   "source": [
    "all_img = parse_annotation(ann_dir)"
   ]
  },
  {
   "cell_type": "markdown",
   "metadata": {},
   "source": [
    "## Perform training"
   ]
  },
  {
   "cell_type": "markdown",
   "metadata": {},
   "source": [
    "**Loss function**"
   ]
  },
  {
   "cell_type": "markdown",
   "metadata": {
    "ExecuteTime": {
     "end_time": "2017-02-01T20:44:50.211553",
     "start_time": "2017-02-01T20:44:50.206006"
    }
   },
   "source": [
    "$$\\begin{multline}\n",
    "\\lambda_\\textbf{coord}\n",
    "\\sum_{i = 0}^{S^2}\n",
    "    \\sum_{j = 0}^{B}\n",
    "     L_{ij}^{\\text{obj}}\n",
    "            \\left[\n",
    "            \\left(\n",
    "                x_i - \\hat{x}_i\n",
    "            \\right)^2 +\n",
    "            \\left(\n",
    "                y_i - \\hat{y}_i\n",
    "            \\right)^2\n",
    "            \\right]\n",
    "\\\\\n",
    "+ \\lambda_\\textbf{coord} \n",
    "\\sum_{i = 0}^{S^2}\n",
    "    \\sum_{j = 0}^{B}\n",
    "         L_{ij}^{\\text{obj}}\n",
    "         \\left[\n",
    "        \\left(\n",
    "            \\sqrt{w_i} - \\sqrt{\\hat{w}_i}\n",
    "        \\right)^2 +\n",
    "        \\left(\n",
    "            \\sqrt{h_i} - \\sqrt{\\hat{h}_i}\n",
    "        \\right)^2\n",
    "        \\right]\n",
    "\\\\\n",
    "+ \\sum_{i = 0}^{S^2}\n",
    "    \\sum_{j = 0}^{B}\n",
    "        L_{ij}^{\\text{obj}}\n",
    "        \\left(\n",
    "            C_i - \\hat{C}_i\n",
    "        \\right)^2\n",
    "\\\\\n",
    "+ \\lambda_\\textrm{noobj}\n",
    "\\sum_{i = 0}^{S^2}\n",
    "    \\sum_{j = 0}^{B}\n",
    "    L_{ij}^{\\text{noobj}}\n",
    "        \\left(\n",
    "            C_i - \\hat{C}_i\n",
    "        \\right)^2\n",
    "\\\\\n",
    "+ \\sum_{i = 0}^{S^2}\n",
    "L_i^{\\text{obj}}\n",
    "    \\sum_{c \\in \\textrm{classes}}\n",
    "        \\left(\n",
    "            p_i(c) - \\hat{p}_i(c)\n",
    "        \\right)^2\n",
    "\\end{multline}$$"
   ]
  },
  {
   "cell_type": "code",
   "execution_count": null,
   "metadata": {
    "ExecuteTime": {
     "end_time": "2017-06-29T11:54:51.338391Z",
     "start_time": "2017-06-29T19:54:51.257520+08:00"
    },
    "code_folding": [],
    "collapsed": true
   },
   "outputs": [],
   "source": [
    "def custom_loss(y_true, y_pred):\n",
    "    ### Adjust prediction\n",
    "    # adjust x and y      \n",
    "    pred_box_xy = tf.sigmoid(y_pred[:,:,:,:,:2])\n",
    "    \n",
    "    # adjust w and h\n",
    "    pred_box_wh = tf.exp(y_pred[:,:,:,:,2:4]) * np.reshape(ANCHORS, [1,1,1,BOX,2])\n",
    "    pred_box_wh = tf.sqrt(pred_box_wh / np.reshape([float(GRID_W), float(GRID_H)], [1,1,1,1,2]))\n",
    "    \n",
    "    # adjust confidence\n",
    "    pred_box_conf = tf.expand_dims(tf.sigmoid(y_pred[:, :, :, :, 4]), -1)\n",
    "    \n",
    "    # adjust probability\n",
    "    pred_box_prob = tf.nn.softmax(y_pred[:, :, :, :, 5:])\n",
    "    \n",
    "    y_pred = tf.concat([pred_box_xy, pred_box_wh, pred_box_conf, pred_box_prob], 4)\n",
    "    \n",
    "    ### Adjust ground truth\n",
    "    # adjust x and y\n",
    "    center_xy = .5*(y_true[:,:,:,:,0:2] + y_true[:,:,:,:,2:4])\n",
    "    center_xy = center_xy / np.reshape([(float(NORM_W)/GRID_W), (float(NORM_H)/GRID_H)], [1,1,1,1,2])\n",
    "    true_box_xy = center_xy - tf.floor(center_xy)\n",
    "    \n",
    "    # adjust w and h\n",
    "    true_box_wh = (y_true[:,:,:,:,2:4] - y_true[:,:,:,:,0:2])\n",
    "    true_box_wh = tf.sqrt(true_box_wh / np.reshape([float(NORM_W), float(NORM_H)], [1,1,1,1,2]))\n",
    "    \n",
    "    # adjust confidence\n",
    "    pred_tem_wh = tf.pow(pred_box_wh, 2) * np.reshape([GRID_W, GRID_H], [1,1,1,1,2])\n",
    "    pred_box_area = pred_tem_wh[:,:,:,:,0] * pred_tem_wh[:,:,:,:,1]\n",
    "    pred_box_ul = pred_box_xy - 0.5 * pred_tem_wh\n",
    "    pred_box_bd = pred_box_xy + 0.5 * pred_tem_wh\n",
    "    \n",
    "    true_tem_wh = tf.pow(true_box_wh, 2) * np.reshape([GRID_W, GRID_H], [1,1,1,1,2])\n",
    "    true_box_area = true_tem_wh[:,:,:,:,0] * true_tem_wh[:,:,:,:,1]\n",
    "    true_box_ul = true_box_xy - 0.5 * true_tem_wh\n",
    "    true_box_bd = true_box_xy + 0.5 * true_tem_wh\n",
    "    \n",
    "    intersect_ul = tf.maximum(pred_box_ul, true_box_ul) \n",
    "    intersect_br = tf.minimum(pred_box_bd, true_box_bd)\n",
    "    intersect_wh = intersect_br - intersect_ul\n",
    "    intersect_wh = tf.maximum(intersect_wh, 0.0)\n",
    "    intersect_area = intersect_wh[:,:,:,:,0] * intersect_wh[:,:,:,:,1]\n",
    "    \n",
    "    iou = tf.truediv(intersect_area, true_box_area + pred_box_area - intersect_area)\n",
    "    best_box = tf.equal(iou, tf.reduce_max(iou, [3], True)) \n",
    "    best_box = tf.to_float(best_box)\n",
    "    true_box_conf = tf.expand_dims(best_box * y_true[:,:,:,:,4], -1)\n",
    "    \n",
    "    # adjust confidence\n",
    "    true_box_prob = y_true[:,:,:,:,5:]\n",
    "    \n",
    "    y_true = tf.concat([true_box_xy, true_box_wh, true_box_conf, true_box_prob], 4)\n",
    "    #y_true = tf.Print(y_true, [true_box_wh], message='DEBUG', summarize=30000)    \n",
    "    \n",
    "    ### Compute the weights\n",
    "    weight_coor = tf.concat(4 * [true_box_conf], 4)\n",
    "    weight_coor = SCALE_COOR * weight_coor\n",
    "    \n",
    "    weight_conf = SCALE_NOOB * (1. - true_box_conf) + SCALE_CONF * true_box_conf\n",
    "    \n",
    "    weight_prob = tf.concat(CLASS * [true_box_conf], 4) \n",
    "    weight_prob = SCALE_PROB * weight_prob \n",
    "    \n",
    "    weight = tf.concat([weight_coor, weight_conf, weight_prob], 4)\n",
    "    \n",
    "    ### Finalize the loss\n",
    "    loss = tf.pow(y_pred - y_true, 2)\n",
    "    loss = loss * weight\n",
    "    loss = tf.reshape(loss, [-1, GRID_W*GRID_H*BOX*(4 + 1 + CLASS)])\n",
    "    loss = tf.reduce_sum(loss, 1)\n",
    "    loss = .5 * tf.reduce_mean(loss)\n",
    "    \n",
    "    return loss"
   ]
  },
  {
   "cell_type": "markdown",
   "metadata": {},
   "source": [
    "**Randomize weights of the last layer**"
   ]
  },
  {
   "cell_type": "code",
   "execution_count": null,
   "metadata": {
    "ExecuteTime": {
     "end_time": "2017-06-29T11:54:55.382246Z",
     "start_time": "2017-06-29T19:54:55.348935+08:00"
    },
    "collapsed": true
   },
   "outputs": [],
   "source": [
    "layer = model.layers[-3] # the last convolutional layer\n",
    "weights = layer.get_weights()\n",
    "\n",
    "new_kernel = np.random.normal(size=weights[0].shape)/(GRID_H*GRID_W)\n",
    "new_bias = np.random.normal(size=weights[1].shape)/(GRID_H*GRID_W)\n",
    "\n",
    "layer.set_weights([new_kernel, new_bias])"
   ]
  },
  {
   "cell_type": "markdown",
   "metadata": {},
   "source": [
    "**Retrain the network**"
   ]
  },
  {
   "cell_type": "code",
   "execution_count": 13,
   "metadata": {},
   "outputs": [
    {
     "name": "stdout",
     "output_type": "stream",
     "text": [
      "343\n",
      "{'height': 480, 'width': 640, 'object': [{'xmin': 239, 'ymin': 265, 'name': 'RBC', 'xmax': 342, 'ymax': 357}, {'xmin': 168, 'ymin': 1, 'name': 'RBC', 'xmax': 271, 'ymax': 92}, {'xmin': 375, 'ymin': 102, 'name': 'RBC', 'xmax': 479, 'ymax': 211}, {'xmin': 498, 'ymin': 114, 'name': 'RBC', 'xmax': 621, 'ymax': 236}, {'xmin': 197, 'ymin': 92, 'name': 'RBC', 'xmax': 309, 'ymax': 193}, {'xmin': 3, 'ymin': 76, 'name': 'RBC', 'xmax': 112, 'ymax': 175}, {'xmin': 356, 'ymin': 210, 'name': 'RBC', 'xmax': 457, 'ymax': 324}, {'xmin': 78, 'ymin': 163, 'name': 'RBC', 'xmax': 192, 'ymax': 287}, {'xmin': 468, 'ymin': 317, 'name': 'RBC', 'xmax': 583, 'ymax': 435}, {'xmin': 106, 'ymin': 388, 'name': 'RBC', 'xmax': 209, 'ymax': 480}], 'filename': 'BloodImage_00145'}\n"
     ]
    },
    {
     "data": {
      "text/plain": [
       "340"
      ]
     },
     "execution_count": 13,
     "metadata": {},
     "output_type": "execute_result"
    }
   ],
   "source": [
    "print len(all_img)\n",
    "train_img=all_img[0:340]\n",
    "print(all_img[341])\n",
    "len(train_img)"
   ]
  },
  {
   "cell_type": "code",
   "execution_count": null,
   "metadata": {
    "ExecuteTime": {
     "end_time": "2017-06-29T12:13:06.924612Z",
     "start_time": "2017-06-29T20:13:06.918728+08:00"
    },
    "code_folding": [],
    "collapsed": true
   },
   "outputs": [],
   "source": [
    "early_stop = EarlyStopping(monitor='loss', min_delta=0.001, patience=15, mode='min', verbose=1)\n",
    "checkpoint = ModelCheckpoint('weights_RBC.hdf5', monitor='loss', verbose=1, save_best_only=True, mode='min', period=1)"
   ]
  },
  {
   "cell_type": "code",
   "execution_count": null,
   "metadata": {
    "ExecuteTime": {
     "end_time": "2017-06-29T17:01:10.537792Z",
     "start_time": "2017-06-29T23:41:42.704146+08:00"
    },
    "collapsed": true,
    "scrolled": false
   },
   "outputs": [],
   "source": [
    "tb_counter  = max([int(num) for num in os.listdir('log/')] or [0]) + 1\n",
    "tensorboard = TensorBoard(log_dir='log/' + str(tb_counter), histogram_freq=0, write_graph=True, write_images=False)\n",
    "\n",
    "sgd = SGD(lr=0.00001, decay=0.0005, momentum=0.9)\n",
    "\n",
    "model.compile(loss=custom_loss, optimizer=sgd,metrics=[\"accuracy\"])#'adagrad')\n",
    "#"
   ]
  },
  {
   "cell_type": "code",
   "execution_count": null,
   "metadata": {
    "collapsed": true
   },
   "outputs": [],
   "source": []
  },
  {
   "cell_type": "code",
   "execution_count": null,
   "metadata": {
    "collapsed": true
   },
   "outputs": [],
   "source": [
    "    model.fit_generator(data_gen(train_img, BATCH_SIZE), \n",
    "                    int(len(train_img)), \n",
    "                    epochs = 100, \n",
    "                    verbose = 1,\n",
    "                    callbacks = [early_stop, checkpoint, tensorboard])"
   ]
  },
  {
   "cell_type": "markdown",
   "metadata": {},
   "source": [
    "## Perform detection on image"
   ]
  },
  {
   "cell_type": "code",
   "execution_count": null,
   "metadata": {
    "collapsed": true
   },
   "outputs": [],
   "source": [
    "print model.input\n",
    "print model.output\n",
    "print model.outputs\n",
    "print model.inputs"
   ]
  },
  {
   "cell_type": "code",
   "execution_count": null,
   "metadata": {
    "collapsed": true
   },
   "outputs": [],
   "source": [
    "\n",
    "from keras.layers.core import K\n",
    "K.get_session().graph.as_graph_def()"
   ]
  },
  {
   "cell_type": "code",
   "execution_count": null,
   "metadata": {
    "collapsed": true
   },
   "outputs": [],
   "source": [
    "import tensorflow as tf\n",
    "from tensorflow.python.tools import freeze_graph\n",
    "from tensorflow.python.tools import optimize_for_inference_lib"
   ]
  },
  {
   "cell_type": "code",
   "execution_count": null,
   "metadata": {
    "collapsed": true
   },
   "outputs": [],
   "source": [
    "# def export_model(saver, model, input_node_names, output_node_name):\n",
    "#     MODEL_NAME='YOLO_KERAS_RBC'\n",
    "#     tf.train.write_graph(K.get_session().graph_def, 'outYOLO', \\\n",
    "#         MODEL_NAME + '_graph.pbtxt')\n",
    "\n",
    "#     saver.save(K.get_session(), 'outYOLO/' + MODEL_NAME + '.chkp')\n",
    "\n",
    "#     freeze_graph.freeze_graph('outYOLO/' + MODEL_NAME + '_graph.pbtxt', None, \\\n",
    "#         False, 'outYOLO/' + MODEL_NAME + '.chkp', output_node_name, \\\n",
    "#         \"save/restore_all\", \"save/Const:0\", \\\n",
    "#         'outYOLO/frozen_' + MODEL_NAME + '.pb', True, \"\")\n",
    "\n",
    "#     input_graph_def = tf.GraphDef()\n",
    "#     with tf.gfile.Open('outYOLO/frozen_' + MODEL_NAME + '.pb', \"rb\") as f:\n",
    "#         input_graph_def.ParseFromString(f.read())\n",
    "\n",
    "#     output_graph_def = optimize_for_inference_lib.optimize_for_inference(\n",
    "#             input_graph_def, input_node_names, [output_node_name],\n",
    "#             tf.float32.as_datatype_enum)\n",
    "\n",
    "#     with tf.gfile.FastGFile('outYOLO/opt_' + MODEL_NAME + '.pb', \"wb\") as f:\n",
    "#         f.write(output_graph_def.SerializeToString())\n",
    "\n",
    "#     print(\"graph saved!\")"
   ]
  },
  {
   "cell_type": "code",
   "execution_count": null,
   "metadata": {
    "collapsed": true
   },
   "outputs": [],
   "source": [
    "# export_model(tf.train.Saver(), model,['conv2d_1_input'], 'reshape_1/Reshape')"
   ]
  },
  {
   "cell_type": "code",
   "execution_count": null,
   "metadata": {
    "collapsed": true
   },
   "outputs": [],
   "source": [
    "# g = tf.GraphDef()\n",
    "# g.ParseFromString(open('outYOLO/frozen_YOLO_KERAS_RBC.pb', 'rb').read())\n",
    "# [n for n in g.node if n.name.find('input') != -1]\n",
    "# print \n",
    "\n",
    "\n",
    "# with tf.Graph().as_default() as graph:\n",
    "#         tf.import_graph_def(\n",
    "#             g, \n",
    "#             input_map=None, \n",
    "#             return_elements=None, \n",
    "#             name=\"prefix\", \n",
    "#             op_dict=None, \n",
    "#             producer_op_list=None\n",
    "# )"
   ]
  },
  {
   "cell_type": "code",
   "execution_count": null,
   "metadata": {
    "collapsed": true
   },
   "outputs": [],
   "source": []
  },
  {
   "cell_type": "code",
   "execution_count": null,
   "metadata": {
    "collapsed": true
   },
   "outputs": [],
   "source": []
  },
  {
   "cell_type": "code",
   "execution_count": null,
   "metadata": {
    "collapsed": true
   },
   "outputs": [],
   "source": [
    "# import tensorflow as tf\n",
    "\n",
    "# def load_graph(frozen_graph_filename):\n",
    "#     # We load the protobuf file from the disk and parse it to retrieve the \n",
    "#     # unserialized graph_def\n",
    "#     with tf.gfile.GFile(frozen_graph_filename, \"rb\") as f:\n",
    "#         graph_def = tf.GraphDef()\n",
    "#         graph_def.ParseFromString(f.read())\n",
    "\n",
    "#     # Then, we can use again a convenient built-in function to import a graph_def into the \n",
    "#     # current default Graph\n",
    "#     with tf.Graph().as_default() as graph:\n",
    "#         tf.import_graph_def(\n",
    "#             graph_def, \n",
    "#             input_map=None, \n",
    "#             return_elements=None, \n",
    "#             name=\"prefix\", \n",
    "#             op_dict=None, \n",
    "#             producer_op_list=None\n",
    "#         )\n",
    "#     return graph"
   ]
  },
  {
   "cell_type": "code",
   "execution_count": null,
   "metadata": {
    "collapsed": true
   },
   "outputs": [],
   "source": []
  },
  {
   "cell_type": "code",
   "execution_count": 14,
   "metadata": {},
   "outputs": [
    {
     "data": {
      "text/plain": [
       "(1, 416, 416, 3)"
      ]
     },
     "execution_count": 14,
     "metadata": {},
     "output_type": "execute_result"
    }
   ],
   "source": [
    "# image = cv2.imread('data/detection_dataset/JPEGImages/BloodImage_00145.jpg')\n",
    "\n",
    "\n",
    "# input_image = cv2.resize(image, (416, 416))\n",
    "\n",
    "\n",
    "# input_image = input_image / 255.\n",
    "# input_image = input_image[:,:,::-1]\n",
    "\n",
    "# #plt.imshow(input_image); plt.show()\n",
    "\n",
    "# input_image = np.expand_dims(input_image, 0)\n",
    "# input_image.shape"
   ]
  },
  {
   "cell_type": "code",
   "execution_count": null,
   "metadata": {
    "collapsed": true
   },
   "outputs": [],
   "source": [
    "# from keras import backend as K\n",
    "# K.set_learning_phase(False) #set learning phase"
   ]
  },
  {
   "cell_type": "code",
   "execution_count": null,
   "metadata": {
    "collapsed": true
   },
   "outputs": [],
   "source": [
    "# import argparse \n",
    "# import tensorflow as tf\n",
    "\n",
    "#     # Let's allow the user to pass the filename as an argument\n",
    "    \n",
    "#     # We use our \"load_graph\" function\n",
    "# #graph = load_graph('outYOLO/frozen_YOLO_KERAS.pb')\n",
    "\n",
    "#     # We can verify that we can access the list of operations in the graph\n",
    "# #for op in graph.get_operations():\n",
    "#     #print(op.name)\n",
    "#         # prefix/Placeholder/inputs_placeholder\n",
    "#         # ...\n",
    "#         # prefix/Accuracy/predictions\n",
    "        \n",
    "#     # We access the input and output nodes \n",
    "# x = graph.get_tensor_by_name('prefix/conv2d_1_input:0')\n",
    "# y = graph.get_tensor_by_name('prefix/reshape_1/Reshape:0')\n",
    "        \n",
    "#     # We launch a Session\n",
    "# with tf.Session(graph=graph) as sess:\n",
    "#         # Note: we didn't initialize/restore anything, everything is stored in the graph_def\n",
    "#     y_out = sess.run(y, feed_dict={\n",
    "#         x: input_image # < 45\n",
    "#     })\n",
    "        \n",
    "\n",
    "# #print netout"
   ]
  },
  {
   "cell_type": "code",
   "execution_count": null,
   "metadata": {
    "collapsed": true
   },
   "outputs": [],
   "source": [
    "\n",
    "# image = interpret_netout(image, y_out[0])\n",
    "# plt.imshow(image[:,:,::-1]); plt.show()"
   ]
  },
  {
   "cell_type": "code",
   "execution_count": 5,
   "metadata": {
    "ExecuteTime": {
     "end_time": "2017-07-05T09:20:19.526888Z",
     "start_time": "2017-07-05T17:20:18.934995+08:00"
    },
    "collapsed": true
   },
   "outputs": [],
   "source": [
    "model.load_weights(\"weights_RBC.hdf5\")"
   ]
  },
  {
   "cell_type": "code",
   "execution_count": null,
   "metadata": {
    "collapsed": true
   },
   "outputs": [],
   "source": []
  },
  {
   "cell_type": "code",
   "execution_count": 19,
   "metadata": {
    "ExecuteTime": {
     "end_time": "2017-07-05T09:20:37.331274Z",
     "start_time": "2017-07-05T17:20:36.669840+08:00"
    }
   },
   "outputs": [
    {
     "name": "stdout",
     "output_type": "stream",
     "text": [
      "Total RBC Count >> \n",
      "19\n"
     ]
    },
    {
     "data": {
      "image/png": "[encoded data removed]",
      "text/plain": [
       "<matplotlib.figure.Figure at 0x7fd9d796b150>"
      ]
     },
     "metadata": {},
     "output_type": "display_data"
    }
   ],
   "source": [
    "image = cv2.imread('data/detection_dataset/JPEGImages/BloodImage_00145.jpg')\n",
    "\n",
    "#plt.figure(figsize=(10,10))\n",
    "\n",
    "input_image = cv2.resize(image, (416, 416))\n",
    "\n",
    "\n",
    "input_image = input_image / 255.\n",
    "input_image = input_image[:,:,::-1]\n",
    "\n",
    "#plt.imshow(input_image); plt.show()\n",
    "\n",
    "input_image = np.expand_dims(input_image, 0)\n",
    "\n",
    "netout = model.predict(input_image)\n",
    "\n",
    "#print netout\n",
    "image = interpret_netout(image, netout[0])\n",
    "plt.imshow(image[:,:,::-1]); plt.show()\n",
    "\n"
   ]
  },
  {
   "cell_type": "markdown",
   "metadata": {},
   "source": [
    "## Perform detection on video"
   ]
  },
  {
   "cell_type": "code",
   "execution_count": null,
   "metadata": {
    "ExecuteTime": {
     "end_time": "2017-06-29T09:06:54.858691Z",
     "start_time": "2017-06-29T17:06:54.749792+08:00"
    },
    "collapsed": true
   },
   "outputs": [],
   "source": [
    "model.load_weights(\"weights.hdf5\")"
   ]
  },
  {
   "cell_type": "code",
   "execution_count": null,
   "metadata": {
    "collapsed": true
   },
   "outputs": [],
   "source": [
    "video_inp = '../basic-yolo-keras/images/phnom_penh.mp4'\n",
    "video_out = '../basic-yolo-keras/images/phnom_penh_bbox.mp4'\n",
    "\n",
    "video_reader = cv2.VideoCapture(video_inp)\n",
    "video_writer = None\n",
    "\n",
    "while(True):\n",
    "    ret, frame = video_reader.read()\n",
    "\n",
    "    if ret == True:\n",
    "        input_image = cv2.resize(frame, (416, 416))\n",
    "        input_image = input_image / 255.\n",
    "        input_image = input_image[:,:,::-1]\n",
    "        input_image = np.expand_dims(input_image, 0)\n",
    "\n",
    "        netout = model.predict(input_image)\n",
    "\n",
    "        frame = interpret_netout(frame, netout[0])\n",
    "        \n",
    "        if video_writer is None:\n",
    "            fourcc = cv2.VideoWriter_fourcc(*'XVID')\n",
    "            video_writer = cv2.VideoWriter(video_out, fourcc, 50.0, (frame.shape[1], frame.shape[0]))\n",
    "            \n",
    "        video_writer.write(np.uint8(frame))\n",
    "        \n",
    "    else:\n",
    "        break\n",
    "\n",
    "video_reader.release()\n",
    "video_writer.release()"
   ]
  }
 ],
 "metadata": {
  "anaconda-cloud": {},
  "hide_input": false,
  "kernelspec": {
   "display_name": "Python 2",
   "language": "python",
   "name": "python2"
  },
  "language_info": {
   "codemirror_mode": {
    "name": "ipython",
    "version": 2
   },
   "file_extension": ".py",
   "mimetype": "text/x-python",
   "name": "python",
   "nbconvert_exporter": "python",
   "pygments_lexer": "ipython2",
   "version": "2.7.12"
  },
  "toc": {
   "colors": {
    "hover_highlight": "#DAA520",
    "running_highlight": "#FF0000",
    "selected_highlight": "#FFD700"
   },
   "moveMenuLeft": true,
   "nav_menu": {
    "height": "381px",
    "width": "251px"
   },
   "navigate_menu": true,
   "number_sections": true,
   "sideBar": true,
   "threshold": 4,
   "toc_cell": false,
   "toc_position": {
    "height": "674px",
    "left": "0px",
    "right": "1096px",
    "top": "73px",
    "width": "253px"
   },
   "toc_section_display": "block",
   "toc_window_display": true
  }
 },
 "nbformat": 4,
 "nbformat_minor": 1
}
